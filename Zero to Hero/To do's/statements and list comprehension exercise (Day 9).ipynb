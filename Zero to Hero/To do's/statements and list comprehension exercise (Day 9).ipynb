{
 "cells": [
  {
   "cell_type": "markdown",
   "id": "92dd0e63",
   "metadata": {},
   "source": [
    "# statement assessment test"
   ]
  },
  {
   "cell_type": "code",
   "execution_count": 4,
   "id": "184de6e6",
   "metadata": {},
   "outputs": [
    {
     "name": "stdout",
     "output_type": "stream",
     "text": [
      "start\n",
      "s\n",
      "sentence\n"
     ]
    }
   ],
   "source": [
    "# use for, split () and if to create a statement that will print words that starts with 's'\n",
    "\n",
    "st = \"Print only the words that start with s in this sentence\" \n",
    "for words in st.split():\n",
    "    if words.startswith (\"s\"):\n",
    "        print(words)"
   ]
  },
  {
   "cell_type": "code",
   "execution_count": 5,
   "id": "9a86a610",
   "metadata": {},
   "outputs": [
    {
     "data": {
      "text/plain": [
       "[0, 2, 4, 6, 8, 10]"
      ]
     },
     "execution_count": 5,
     "metadata": {},
     "output_type": "execute_result"
    }
   ],
   "source": [
    "# use range() to print all the even numbers from 0 to 10\n",
    "\n",
    "even_num = [numbers for numbers in range(0, 11) if numbers % 2 == 0]\n",
    "even_num"
   ]
  },
  {
   "cell_type": "code",
   "execution_count": 6,
   "id": "233094d1",
   "metadata": {},
   "outputs": [
    {
     "data": {
      "text/plain": [
       "[0, 3, 6, 9, 12, 15, 18, 21, 24, 27, 30, 33, 36, 39, 42, 45, 48]"
      ]
     },
     "execution_count": 6,
     "metadata": {},
     "output_type": "execute_result"
    }
   ],
   "source": [
    "# checking if the number is divisible by 3\n",
    "divisible_by_three = [numbers for numbers in range(0, 51) if numbers % 3 == 0]\n",
    "divisible_by_three"
   ]
  },
  {
   "cell_type": "code",
   "execution_count": 9,
   "id": "d22305f2",
   "metadata": {},
   "outputs": [
    {
     "name": "stdout",
     "output_type": "stream",
     "text": [
      "word = 'Even'\n",
      "in = 'Even'\n",
      "this = 'Even'\n",
      "sentence = 'Even'\n",
      "that = 'Even'\n",
      "an = 'Even'\n",
      "even = 'Even'\n",
      "number = 'Even'\n",
      "of = 'Even'\n"
     ]
    }
   ],
   "source": [
    "# checking if the leng of the word is even or not\n",
    "\n",
    "st = \"print every word in this sentence that has an even number of letters\"\n",
    "\n",
    "for numbers in st.split():\n",
    "    if len(numbers) % 2 == 0:\n",
    "        print(f\"{numbers} = 'Even'\")"
   ]
  },
  {
   "cell_type": "code",
   "execution_count": 15,
   "id": "a5c94a8d",
   "metadata": {},
   "outputs": [
    {
     "name": "stdout",
     "output_type": "stream",
     "text": [
      "1\n",
      "2\n",
      "Fizz\n",
      "4\n",
      "Buzz\n",
      "Fizz\n",
      "7\n",
      "8\n",
      "Fizz\n",
      "Buzz\n",
      "11\n",
      "Fizz\n",
      "13\n",
      "14\n",
      "Fizzbuzz\n",
      "16\n",
      "17\n",
      "Fizz\n",
      "19\n",
      "Buzz\n",
      "Fizz\n",
      "22\n",
      "23\n",
      "Fizz\n",
      "Buzz\n",
      "26\n",
      "Fizz\n",
      "28\n",
      "29\n",
      "Fizzbuzz\n",
      "31\n",
      "32\n",
      "Fizz\n",
      "34\n",
      "Buzz\n",
      "Fizz\n",
      "37\n",
      "38\n",
      "Fizz\n",
      "Buzz\n",
      "41\n",
      "Fizz\n",
      "43\n",
      "44\n",
      "Fizzbuzz\n",
      "46\n",
      "47\n",
      "Fizz\n",
      "49\n",
      "Buzz\n",
      "Fizz\n",
      "52\n",
      "53\n",
      "Fizz\n",
      "Buzz\n",
      "56\n",
      "Fizz\n",
      "58\n",
      "59\n",
      "Fizzbuzz\n",
      "61\n",
      "62\n",
      "Fizz\n",
      "64\n",
      "Buzz\n",
      "Fizz\n",
      "67\n",
      "68\n",
      "Fizz\n",
      "Buzz\n",
      "71\n",
      "Fizz\n",
      "73\n",
      "74\n",
      "Fizzbuzz\n",
      "76\n",
      "77\n",
      "Fizz\n",
      "79\n",
      "Buzz\n",
      "Fizz\n",
      "82\n",
      "83\n",
      "Fizz\n",
      "Buzz\n",
      "86\n",
      "Fizz\n",
      "88\n",
      "89\n",
      "Fizzbuzz\n",
      "91\n",
      "92\n",
      "Fizz\n",
      "94\n",
      "Buzz\n",
      "Fizz\n",
      "97\n",
      "98\n",
      "Fizz\n",
      "Buzz\n"
     ]
    }
   ],
   "source": [
    "# fizzbuzz exercise\n",
    "\n",
    "for numbers in range(1, 100+1):\n",
    "    if numbers % 15 == 0:\n",
    "        print(\"Fizzbuzz\")\n",
    "    elif numbers % 3 == 0:\n",
    "        print(\"Fizz\")\n",
    "    elif numbers % 5 == 0:\n",
    "        print(\"Buzz\")\n",
    "    else:\n",
    "        print(numbers)\n",
    "\n",
    "# fizzbuzz = [numbers for numbers in range(1, 100+1) if numbers % 15 == 0: \"Fizzbuzz\" elif numbers % 3 == 0: \"Fizz\" elif numbers % 5 == 0: \"Buzz\"]\n",
    "#fizzbuzz (will study later)"
   ]
  },
  {
   "cell_type": "code",
   "execution_count": 30,
   "id": "372b9844",
   "metadata": {},
   "outputs": [
    {
     "data": {
      "text/plain": [
       "['C', 'a', 'l', 'o', 't', 'f', 'l', 'o', 'e', 'w', 'i', 't', 's']"
      ]
     },
     "execution_count": 30,
     "metadata": {},
     "output_type": "execute_result"
    }
   ],
   "source": [
    "# list comprehension to create a list of the first letters of every word from the string\n",
    "\n",
    "st = \"Create a list of the first letters of every word in this string\"\n",
    "\n",
    "mylist = [words[0] for words in st.split()]\n",
    "mylist"
   ]
  },
  {
   "cell_type": "code",
   "execution_count": null,
   "id": "2cb47269",
   "metadata": {},
   "outputs": [],
   "source": []
  },
  {
   "cell_type": "code",
   "execution_count": null,
   "id": "6da1408d",
   "metadata": {},
   "outputs": [],
   "source": []
  }
 ],
 "metadata": {
  "kernelspec": {
   "display_name": "Python 3 (ipykernel)",
   "language": "python",
   "name": "python3"
  },
  "language_info": {
   "codemirror_mode": {
    "name": "ipython",
    "version": 3
   },
   "file_extension": ".py",
   "mimetype": "text/x-python",
   "name": "python",
   "nbconvert_exporter": "python",
   "pygments_lexer": "ipython3",
   "version": "3.11.4"
  }
 },
 "nbformat": 4,
 "nbformat_minor": 5
}
