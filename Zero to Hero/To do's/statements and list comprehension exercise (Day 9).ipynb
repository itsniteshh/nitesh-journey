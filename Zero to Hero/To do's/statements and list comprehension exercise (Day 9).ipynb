{
 "cells": [
  {
   "cell_type": "markdown",
   "id": "a44f0c2b",
   "metadata": {},
   "source": [
    "# statement assessment test"
   ]
  },
  {
   "cell_type": "code",
   "execution_count": 4,
   "id": "88f69072",
   "metadata": {},
   "outputs": [
    {
     "name": "stdout",
     "output_type": "stream",
     "text": [
      "start\n",
      "s\n",
      "sentence\n"
     ]
    }
   ],
   "source": [
    "# use for, split () and if to create a statement that will print words that starts with 's'\n",
    "\n",
    "st = \"Print only the words that start with s in this sentence\" \n",
    "for words in st.split():\n",
    "    if words.startswith (\"s\"):\n",
    "        print(words)"
   ]
  },
  {
   "cell_type": "code",
   "execution_count": 5,
   "id": "dad7fd7c",
   "metadata": {},
   "outputs": [
    {
     "data": {
      "text/plain": [
       "[0, 2, 4, 6, 8, 10]"
      ]
     },
     "execution_count": 5,
     "metadata": {},
     "output_type": "execute_result"
    }
   ],
   "source": [
    "# use range() to print all the even numbers from 0 to 10\n",
    "\n",
    "even_num = [numbers for numbers in range(0, 11) if numbers % 2 == 0]\n",
    "even_num"
   ]
  },
  {
   "cell_type": "code",
   "execution_count": 6,
   "id": "84759c72",
   "metadata": {},
   "outputs": [
    {
     "data": {
      "text/plain": [
       "[0, 3, 6, 9, 12, 15, 18, 21, 24, 27, 30, 33, 36, 39, 42, 45, 48]"
      ]
     },
     "execution_count": 6,
     "metadata": {},
     "output_type": "execute_result"
    }
   ],
   "source": [
    "# checking if the number is divisible by 3\n",
    "divisible_by_three = [numbers for numbers in range(0, 51) if numbers % 3 == 0]\n",
    "divisible_by_three"
   ]
  },
  {
   "cell_type": "code",
   "execution_count": 9,
   "id": "6793669f",
   "metadata": {},
   "outputs": [
    {
     "name": "stdout",
     "output_type": "stream",
     "text": [
      "word = 'Even'\n",
      "in = 'Even'\n",
      "this = 'Even'\n",
      "sentence = 'Even'\n",
      "that = 'Even'\n",
      "an = 'Even'\n",
      "even = 'Even'\n",
      "number = 'Even'\n",
      "of = 'Even'\n"
     ]
    }
   ],
   "source": [
    "# checking if the leng of the word is even or not\n",
    "\n",
    "st = \"print every word in this sentence that has an even number of letters\"\n",
    "\n",
    "for numbers in st.split():\n",
    "    if len(numbers) % 2 == 0:\n",
    "        print(f\"{numbers} = 'Even'\")"
   ]
  },
  {
   "cell_type": "code",
   "execution_count": null,
   "id": "a5635794",
   "metadata": {},
   "outputs": [],
   "source": []
  }
 ],
 "metadata": {
  "kernelspec": {
   "display_name": "Python 3 (ipykernel)",
   "language": "python",
   "name": "python3"
  },
  "language_info": {
   "codemirror_mode": {
    "name": "ipython",
    "version": 3
   },
   "file_extension": ".py",
   "mimetype": "text/x-python",
   "name": "python",
   "nbconvert_exporter": "python",
   "pygments_lexer": "ipython3",
   "version": "3.11.4"
  }
 },
 "nbformat": 4,
 "nbformat_minor": 5
}
