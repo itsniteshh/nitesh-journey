{
 "cells": [
  {
   "cell_type": "markdown",
   "id": "437fd90a",
   "metadata": {},
   "source": [
    "# Objects and Data structures assesment test"
   ]
  },
  {
   "cell_type": "markdown",
   "id": "741d8609",
   "metadata": {},
   "source": [
    "Answer in brief:\n",
    "\n",
    "Numbers - There are 2 types of nums in python\n",
    "1. Int - integer value \n",
    "eg. 1, -42, 43242\n",
    "\n",
    "2. float - floating or decimal values \n",
    "eg. 4.5, 0.4\n",
    "\n",
    "Strings - strings are basic data structures in python. strings are denoted by single quotes or double quotes. str can be sliced.\n",
    "eg. \"Nitesh\", 'nitesh'\n",
    "\n",
    "lists - lists are mutable data structures in python. They are denoted by []\n",
    "lists can be changed, removed and many things can be done.\n",
    "eg. name = [\"nitesh, \"raj\"]\n",
    "\n",
    "tuples - tuples are immutable data types in python. They are denoted by ()\n",
    "they cannot be changed or replaced or added.\n",
    "eg. name = (\"nitesh\", \"raj\")\n",
    "\n",
    "dictionaries - dictionaries are imp data types in python. They are denoted by {}. They can store data in key value pair/\n",
    "eg. person = {\"name\": 'Nitesh', \"age\": 27}\n"
   ]
  },
  {
   "cell_type": "code",
   "execution_count": null,
   "id": "2b326f19",
   "metadata": {},
   "outputs": [],
   "source": []
  }
 ],
 "metadata": {
  "kernelspec": {
   "display_name": "Python 3 (ipykernel)",
   "language": "python",
   "name": "python3"
  },
  "language_info": {
   "codemirror_mode": {
    "name": "ipython",
    "version": 3
   },
   "file_extension": ".py",
   "mimetype": "text/x-python",
   "name": "python",
   "nbconvert_exporter": "python",
   "pygments_lexer": "ipython3",
   "version": "3.11.4"
  }
 },
 "nbformat": 4,
 "nbformat_minor": 5
}
