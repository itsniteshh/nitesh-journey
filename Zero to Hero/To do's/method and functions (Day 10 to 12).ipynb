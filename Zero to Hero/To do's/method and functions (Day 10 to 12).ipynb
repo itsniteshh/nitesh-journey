{
 "cells": [
  {
   "cell_type": "markdown",
   "id": "992d0d67",
   "metadata": {},
   "source": [
    "# learning about functions "
   ]
  },
  {
   "cell_type": "code",
   "execution_count": 2,
   "id": "23f039e7",
   "metadata": {},
   "outputs": [
    {
     "ename": "IndentationError",
     "evalue": "unexpected indent (2786479141.py, line 8)",
     "output_type": "error",
     "traceback": [
      "\u001b[1;36m  Cell \u001b[1;32mIn[2], line 8\u001b[1;36m\u001b[0m\n\u001b[1;33m    \"\"\"\u001b[0m\n\u001b[1;37m    ^\u001b[0m\n\u001b[1;31mIndentationError\u001b[0m\u001b[1;31m:\u001b[0m unexpected indent\n"
     ]
    }
   ],
   "source": [
    "# pig latin \n",
    "\"\"\"If word starts with a vowel, add 'ay' to end\n",
    "If word does not start wiht a vowel, put first letter at the end, then add 'ay'\n",
    "word -- ordway\n",
    "apple -- appleay\"\"\"\n",
    "\n",
    "# def pig_latin():\n",
    "    \"\"\"\n",
    "    if word starts with vowel, add 'ay' to end, else put first letter and the end and add 'ay'\n",
    "    \"\"\"\n",
    "\n"
   ]
  },
  {
   "cell_type": "code",
   "execution_count": 12,
   "id": "05b5ee9c",
   "metadata": {},
   "outputs": [
    {
     "ename": "TypeError",
     "evalue": "'str' object does not support item assignment",
     "output_type": "error",
     "traceback": [
      "\u001b[1;31m---------------------------------------------------------------------------\u001b[0m",
      "\u001b[1;31mTypeError\u001b[0m                                 Traceback (most recent call last)",
      "Cell \u001b[1;32mIn[12], line 5\u001b[0m\n\u001b[0;32m      3\u001b[0m \u001b[38;5;28;01mfor\u001b[39;00m word \u001b[38;5;129;01min\u001b[39;00m \u001b[38;5;124m\"\u001b[39m\u001b[38;5;124maeiou\u001b[39m\u001b[38;5;124m\"\u001b[39m:\n\u001b[0;32m      4\u001b[0m     \u001b[38;5;28;01mif\u001b[39;00m words[\u001b[38;5;241m0\u001b[39m] \u001b[38;5;241m==\u001b[39m word:\n\u001b[1;32m----> 5\u001b[0m         words[\u001b[38;5;241m-\u001b[39m\u001b[38;5;241m1\u001b[39m] \u001b[38;5;241m=\u001b[39m word\n",
      "\u001b[1;31mTypeError\u001b[0m: 'str' object does not support item assignment"
     ]
    }
   ],
   "source": [
    "words = 'apple'\n",
    "\n",
    "for word in \"aeiou\":\n",
    "    if words[0] == word:\n",
    "        words[-1] = word"
   ]
  },
  {
   "cell_type": "code",
   "execution_count": null,
   "id": "435a2508",
   "metadata": {},
   "outputs": [],
   "source": []
  }
 ],
 "metadata": {
  "kernelspec": {
   "display_name": "Python 3 (ipykernel)",
   "language": "python",
   "name": "python3"
  },
  "language_info": {
   "codemirror_mode": {
    "name": "ipython",
    "version": 3
   },
   "file_extension": ".py",
   "mimetype": "text/x-python",
   "name": "python",
   "nbconvert_exporter": "python",
   "pygments_lexer": "ipython3",
   "version": "3.11.4"
  }
 },
 "nbformat": 4,
 "nbformat_minor": 5
}
