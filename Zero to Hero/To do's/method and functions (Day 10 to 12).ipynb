{
 "cells": [
  {
   "cell_type": "markdown",
   "id": "f2285cea",
   "metadata": {},
   "source": [
    "# learning about functions "
   ]
  },
  {
   "cell_type": "code",
   "execution_count": 2,
   "id": "fab4b3ba",
   "metadata": {},
   "outputs": [
    {
     "ename": "IndentationError",
     "evalue": "unexpected indent (2786479141.py, line 8)",
     "output_type": "error",
     "traceback": [
      "\u001b[1;36m  Cell \u001b[1;32mIn[2], line 8\u001b[1;36m\u001b[0m\n\u001b[1;33m    \"\"\"\u001b[0m\n\u001b[1;37m    ^\u001b[0m\n\u001b[1;31mIndentationError\u001b[0m\u001b[1;31m:\u001b[0m unexpected indent\n"
     ]
    }
   ],
   "source": [
    "# pig latin \n",
    "\"\"\"If word starts with a vowel, add 'ay' to end\n",
    "If word does not start wiht a vowel, put first letter at the end, then add 'ay'\n",
    "word -- ordway\n",
    "apple -- appleay\"\"\"\n",
    "\n",
    "# def pig_latin():\n",
    "    \"\"\"\n",
    "    if word starts with vowel, add 'ay' to end, else put first letter and the end and add 'ay'\n",
    "    \"\"\"\n",
    "\n"
   ]
  },
  {
   "cell_type": "code",
   "execution_count": 5,
   "id": "e1ea4240",
   "metadata": {},
   "outputs": [
    {
     "name": "stdout",
     "output_type": "stream",
     "text": [
      "a\n"
     ]
    }
   ],
   "source": [
    "words = \"apple\"\n",
    "vowels = \"aeiou\"\n",
    "\n",
    "new_list = []\n",
    "\n",
    "for w in words:\n",
    "    new_list += w\n",
    "\n",
    "\n",
    "for l in vowels:\n",
    "    if l == new_list[0]:\n",
    "        "
   ]
  },
  {
   "cell_type": "code",
   "execution_count": null,
   "id": "b4a21285",
   "metadata": {},
   "outputs": [],
   "source": []
  }
 ],
 "metadata": {
  "kernelspec": {
   "display_name": "Python 3 (ipykernel)",
   "language": "python",
   "name": "python3"
  },
  "language_info": {
   "codemirror_mode": {
    "name": "ipython",
    "version": 3
   },
   "file_extension": ".py",
   "mimetype": "text/x-python",
   "name": "python",
   "nbconvert_exporter": "python",
   "pygments_lexer": "ipython3",
   "version": "3.11.4"
  }
 },
 "nbformat": 4,
 "nbformat_minor": 5
}
