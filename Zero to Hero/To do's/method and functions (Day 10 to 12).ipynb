{
 "cells": [
  {
   "cell_type": "markdown",
   "id": "f2285cea",
   "metadata": {},
   "source": [
    "# learning about functions "
   ]
  },
  {
   "cell_type": "code",
   "execution_count": 1,
   "id": "fab4b3ba",
   "metadata": {},
   "outputs": [],
   "source": [
    "# pig latin \n",
    "\"\"\"If word starts with a vowel, add 'ay' to end\n",
    "If word does not start wiht a vowel, put first letter at the end, then add 'ay'\n",
    "word -- ordway\n",
    "apple -- appleay\"\"\"\n",
    "\n",
    "\n",
    "def pig_latin(word):\n",
    "    \"\"\"\n",
    "    if word starts with vowel, add 'ay' to end, else put first letter and the end and add 'ay'\n",
    "    \"\"\"\n",
    "    first_letter = word[0]\n",
    "    \n",
    "    if first_letter in \"aeiou\":\n",
    "        pig_word = word + \"ay\"\n",
    "    else:\n",
    "        pig_word = word[1:] + first_letter + 'ay'\n",
    "    \n",
    "    return pig_word"
   ]
  },
  {
   "cell_type": "code",
   "execution_count": 4,
   "id": "e1ea4240",
   "metadata": {},
   "outputs": [
    {
     "data": {
      "text/plain": [
       "'ordway'"
      ]
     },
     "execution_count": 4,
     "metadata": {},
     "output_type": "execute_result"
    }
   ],
   "source": [
    "pig_latin(\"word\")"
   ]
  },
  {
   "cell_type": "code",
   "execution_count": null,
   "id": "b4a21285",
   "metadata": {},
   "outputs": [],
   "source": []
  }
 ],
 "metadata": {
  "kernelspec": {
   "display_name": "Python 3 (ipykernel)",
   "language": "python",
   "name": "python3"
  },
  "language_info": {
   "codemirror_mode": {
    "name": "ipython",
    "version": 3
   },
   "file_extension": ".py",
   "mimetype": "text/x-python",
   "name": "python",
   "nbconvert_exporter": "python",
   "pygments_lexer": "ipython3",
   "version": "3.11.4"
  }
 },
 "nbformat": 4,
 "nbformat_minor": 5
}
