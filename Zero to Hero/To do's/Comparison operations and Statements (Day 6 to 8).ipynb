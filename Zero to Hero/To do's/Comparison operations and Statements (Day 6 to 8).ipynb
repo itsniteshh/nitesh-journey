{
 "cells": [
  {
   "cell_type": "code",
   "execution_count": 1,
   "id": "ad592df8",
   "metadata": {},
   "outputs": [
    {
     "data": {
      "text/plain": [
       "True"
      ]
     },
     "execution_count": 1,
     "metadata": {},
     "output_type": "execute_result"
    }
   ],
   "source": [
    "2 == 2"
   ]
  },
  {
   "cell_type": "code",
   "execution_count": 4,
   "id": "83899101",
   "metadata": {},
   "outputs": [
    {
     "data": {
      "text/plain": [
       "False"
      ]
     },
     "execution_count": 4,
     "metadata": {},
     "output_type": "execute_result"
    }
   ],
   "source": [
    "2 != 2.0\n"
   ]
  },
  {
   "cell_type": "code",
   "execution_count": 5,
   "id": "d3716c8a",
   "metadata": {},
   "outputs": [
    {
     "data": {
      "text/plain": [
       "True"
      ]
     },
     "execution_count": 5,
     "metadata": {},
     "output_type": "execute_result"
    }
   ],
   "source": [
    "(2==2) and (\"h\" == \"h\")"
   ]
  },
  {
   "cell_type": "markdown",
   "id": "60a0f6b9",
   "metadata": {},
   "source": [
    "# If, elif and else statement "
   ]
  },
  {
   "cell_type": "code",
   "execution_count": 6,
   "id": "ad87db12",
   "metadata": {},
   "outputs": [
    {
     "name": "stdout",
     "output_type": "stream",
     "text": [
      "Its True\n"
     ]
    }
   ],
   "source": [
    "if True:\n",
    "    print(\"Its True\")\n",
    "else:\n",
    "    print(\"Not True\")"
   ]
  },
  {
   "cell_type": "markdown",
   "id": "610d1ffc",
   "metadata": {},
   "source": [
    "# if statement"
   ]
  },
  {
   "cell_type": "code",
   "execution_count": 7,
   "id": "61792b49",
   "metadata": {},
   "outputs": [
    {
     "name": "stdout",
     "output_type": "stream",
     "text": [
      "1\n",
      "2\n",
      "3\n"
     ]
    }
   ],
   "source": [
    "my_items = [1, 2, 3]\n",
    "for item in my_items:\n",
    "    print(item)"
   ]
  },
  {
   "cell_type": "markdown",
   "id": "f86c55e2",
   "metadata": {},
   "source": [
    "# checking even or odd"
   ]
  },
  {
   "cell_type": "code",
   "execution_count": 13,
   "id": "e6ceff9c",
   "metadata": {},
   "outputs": [
    {
     "name": "stdout",
     "output_type": "stream",
     "text": [
      "1 = odd\n",
      "2 = even\n",
      "3 = odd\n",
      "4 = even\n",
      "5 = odd\n",
      "6 = even\n",
      "7 = odd\n",
      "8 = even\n",
      "9 = odd\n",
      "10 = even\n",
      "11 = odd\n",
      "12 = even\n",
      "13 = odd\n",
      "14 = even\n"
     ]
    }
   ],
   "source": [
    "for num in range (1, 15):\n",
    "    if num % 2 == 0:\n",
    "        print(f\"{num} = even\")\n",
    "    else:\n",
    "        print(f\"{num} = odd\")"
   ]
  },
  {
   "cell_type": "code",
   "execution_count": 16,
   "id": "5377b9d4",
   "metadata": {},
   "outputs": [
    {
     "name": "stdout",
     "output_type": "stream",
     "text": [
      "105\n"
     ]
    }
   ],
   "source": [
    "# finding sum on number in a range\n",
    "\n",
    "total_sum = 0\n",
    "\n",
    "for num in range (1, 15):\n",
    "    total_sum += num\n",
    "print(total_sum)\n",
    "    "
   ]
  },
  {
   "cell_type": "code",
   "execution_count": 19,
   "id": "1440383c",
   "metadata": {},
   "outputs": [
    {
     "name": "stdout",
     "output_type": "stream",
     "text": [
      "H\n",
      "e\n",
      "l\n",
      "l\n",
      "o\n",
      " \n",
      "W\n",
      "o\n",
      "r\n",
      "l\n",
      "d\n"
     ]
    }
   ],
   "source": [
    "# using loop with a string\n",
    "\n",
    "for word in \"Hello World\":\n",
    "    print(word)"
   ]
  },
  {
   "cell_type": "code",
   "execution_count": 25,
   "id": "ca3c492d",
   "metadata": {},
   "outputs": [
    {
     "name": "stdout",
     "output_type": "stream",
     "text": [
      "1 2\n",
      "3 4\n",
      "5 6\n",
      "7 8\n"
     ]
    }
   ],
   "source": [
    "mylist = [(1, 2), (3, 4), (5, 6), (7,8)]\n",
    "\n",
    "for a, b in mylist:\n",
    "    print(a, b)"
   ]
  },
  {
   "cell_type": "code",
   "execution_count": null,
   "id": "18af594e",
   "metadata": {},
   "outputs": [],
   "source": []
  }
 ],
 "metadata": {
  "kernelspec": {
   "display_name": "Python 3 (ipykernel)",
   "language": "python",
   "name": "python3"
  },
  "language_info": {
   "codemirror_mode": {
    "name": "ipython",
    "version": 3
   },
   "file_extension": ".py",
   "mimetype": "text/x-python",
   "name": "python",
   "nbconvert_exporter": "python",
   "pygments_lexer": "ipython3",
   "version": "3.11.4"
  }
 },
 "nbformat": 4,
 "nbformat_minor": 5
}
