{
 "cells": [
  {
   "cell_type": "markdown",
   "id": "4be57cf0",
   "metadata": {},
   "source": [
    "# Objects and Data structures assesment test"
   ]
  },
  {
   "cell_type": "markdown",
   "id": "6672642e",
   "metadata": {},
   "source": [
    "Answer in brief:\n",
    "\n",
    "Numbers - There are 2 types of nums in python\n",
    "1. Int - integer value \n",
    "eg. 1, -42, 43242\n",
    "\n",
    "2. float - floating or decimal values \n",
    "eg. 4.5, 0.4\n",
    "\n",
    "Strings - strings are basic data structures in python. strings are denoted by single quotes or double quotes. str can be sliced.\n",
    "eg. \"Nitesh\", 'nitesh'\n",
    "\n",
    "lists - lists are mutable data structures in python. They are denoted by []\n",
    "lists can be changed, removed and many things can be done.\n",
    "eg. name = [\"nitesh, \"raj\"]\n",
    "\n",
    "tuples - tuples are immutable data types in python. They are denoted by ()\n",
    "they cannot be changed or replaced or added.\n",
    "eg. name = (\"nitesh\", \"raj\")\n",
    "\n",
    "dictionaries - dictionaries are imp data types in python. They are denoted by {}. They can store data in key value pair. Dictionaries cannot be sorted unlike list or tuples\n",
    "eg. person = {\"name\": 'Nitesh', \"age\": 27}\n"
   ]
  },
  {
   "cell_type": "markdown",
   "id": "5a74a4c2",
   "metadata": {},
   "source": [
    "# numbers exercise"
   ]
  },
  {
   "cell_type": "code",
   "execution_count": 12,
   "id": "8321cfff",
   "metadata": {},
   "outputs": [
    {
     "data": {
      "text/plain": [
       "100.25"
      ]
     },
     "execution_count": 12,
     "metadata": {},
     "output_type": "execute_result"
    }
   ],
   "source": [
    "answer = 10*10 + 10 - 9.75\n",
    "answer"
   ]
  },
  {
   "cell_type": "code",
   "execution_count": 14,
   "id": "ce431a9f",
   "metadata": {},
   "outputs": [
    {
     "data": {
      "text/plain": [
       "float"
      ]
     },
     "execution_count": 14,
     "metadata": {},
     "output_type": "execute_result"
    }
   ],
   "source": [
    "# to check the type of the below expression \n",
    "\n",
    "answer = 3 + 4 + 1.5\n",
    "type(answer)"
   ]
  },
  {
   "cell_type": "code",
   "execution_count": 20,
   "id": "43291cfd",
   "metadata": {},
   "outputs": [
    {
     "data": {
      "text/plain": [
       "16"
      ]
     },
     "execution_count": 20,
     "metadata": {},
     "output_type": "execute_result"
    }
   ],
   "source": [
    "# to find the squre root \n",
    "\n",
    "sq_root = 4 ** 2\n",
    "sq_root "
   ]
  },
  {
   "cell_type": "code",
   "execution_count": 21,
   "id": "a1500d30",
   "metadata": {},
   "outputs": [
    {
     "data": {
      "text/plain": [
       "4"
      ]
     },
     "execution_count": 21,
     "metadata": {},
     "output_type": "execute_result"
    }
   ],
   "source": [
    "# to find the square\n",
    "sq = 2 * 2\n",
    "sq"
   ]
  },
  {
   "cell_type": "code",
   "execution_count": 22,
   "id": "5eb85806",
   "metadata": {},
   "outputs": [
    {
     "data": {
      "text/plain": [
       "'e'"
      ]
     },
     "execution_count": 22,
     "metadata": {},
     "output_type": "execute_result"
    }
   ],
   "source": [
    "# strings\n",
    "## given the hello string, give an index command that retuns 'e'\n",
    "\n",
    "s = 'hello'\n",
    "s[1]"
   ]
  },
  {
   "cell_type": "code",
   "execution_count": 23,
   "id": "ab1ce082",
   "metadata": {},
   "outputs": [
    {
     "data": {
      "text/plain": [
       "'olleh'"
      ]
     },
     "execution_count": 23,
     "metadata": {},
     "output_type": "execute_result"
    }
   ],
   "source": [
    "#reversing the string using slicing\n",
    "s = 'hello'\n",
    "s[::-1]"
   ]
  },
  {
   "cell_type": "code",
   "execution_count": 24,
   "id": "6664c12b",
   "metadata": {},
   "outputs": [
    {
     "data": {
      "text/plain": [
       "'o'"
      ]
     },
     "execution_count": 24,
     "metadata": {},
     "output_type": "execute_result"
    }
   ],
   "source": [
    "# given the string hello, give two methods of producing the letter 'o' using indexing\n",
    "\n",
    "# method 1\n",
    "s = 'hello'\n",
    "s[-1]"
   ]
  },
  {
   "cell_type": "code",
   "execution_count": 26,
   "id": "73878b49",
   "metadata": {},
   "outputs": [
    {
     "data": {
      "text/plain": [
       "'o'"
      ]
     },
     "execution_count": 26,
     "metadata": {},
     "output_type": "execute_result"
    }
   ],
   "source": [
    "#method 2\n",
    "s[4]"
   ]
  },
  {
   "cell_type": "code",
   "execution_count": 21,
   "id": "7c431eec",
   "metadata": {},
   "outputs": [
    {
     "data": {
      "text/plain": [
       "[0, 0, 0]"
      ]
     },
     "execution_count": 21,
     "metadata": {},
     "output_type": "execute_result"
    }
   ],
   "source": [
    "# lists\n",
    "\n",
    "## build this list [0, 0, 0] in two ways\n",
    "\n",
    "# method 1\n",
    "\n",
    "zeros = []\n",
    "zero = []\n",
    "zeros.append(0)\n",
    "zeros.append(0)\n",
    "zeros.append(0)\n",
    "\n",
    "# method 2\n",
    "zero.insert(0, 0)\n",
    "zero.insert(0, 0)\n",
    "zero.insert(0, 0)\n",
    "zeros\n",
    "zero"
   ]
  },
  {
   "cell_type": "code",
   "execution_count": 43,
   "id": "f490d98b",
   "metadata": {},
   "outputs": [
    {
     "data": {
      "text/plain": [
       "[1, 2, [3, 4, 'goodbye']]"
      ]
     },
     "execution_count": 43,
     "metadata": {},
     "output_type": "execute_result"
    }
   ],
   "source": [
    "# reassigning 'goodbye' in place of 'hello'\n",
    "\n",
    "list3 = [1, 2, [3, 4, 'hello']]\n",
    "list3[2][2] = 'goodbye'\n",
    "list3"
   ]
  },
  {
   "cell_type": "code",
   "execution_count": 45,
   "id": "d2ef5d5d",
   "metadata": {},
   "outputs": [
    {
     "data": {
      "text/plain": [
       "[1, 3, 4, 4, 5, 6, 45]"
      ]
     },
     "execution_count": 45,
     "metadata": {},
     "output_type": "execute_result"
    }
   ],
   "source": [
    "# sorting the list\n",
    "\n",
    "list4 = [5, 4, 3, 6, 1, 45, 4]\n",
    "sorted(list4)"
   ]
  },
  {
   "cell_type": "code",
   "execution_count": 46,
   "id": "6c0ac9fb",
   "metadata": {},
   "outputs": [
    {
     "data": {
      "text/plain": [
       "'hello'"
      ]
     },
     "execution_count": 46,
     "metadata": {},
     "output_type": "execute_result"
    }
   ],
   "source": [
    "# Dictionaries \n",
    "\n",
    "## using keys and indexing, grab the 'hello' from the following dictionaries\n",
    "\n",
    "d = {\"simple_key\": \"hello\"}\n",
    "# grab 'hello'\n",
    "d[\"simple_key\"]"
   ]
  },
  {
   "cell_type": "code",
   "execution_count": 47,
   "id": "66f0a9cd",
   "metadata": {},
   "outputs": [
    {
     "data": {
      "text/plain": [
       "'hello'"
      ]
     },
     "execution_count": 47,
     "metadata": {},
     "output_type": "execute_result"
    }
   ],
   "source": [
    "d = {\"k1\": {'k2': \"hello\"}}\n",
    "# grab 'hello'\n",
    "d[\"k1\"][\"k2\"]"
   ]
  },
  {
   "cell_type": "code",
   "execution_count": 28,
   "id": "e7af3878",
   "metadata": {},
   "outputs": [
    {
     "data": {
      "text/plain": [
       "['hello']"
      ]
     },
     "execution_count": 28,
     "metadata": {},
     "output_type": "execute_result"
    }
   ],
   "source": [
    "#getting a little tricker\n",
    "\n",
    "d = {\"k1\": [{'nest_key': ['this is deep', [\"hello\"]]}]}\n",
    "\n",
    "d[\"k1\"][0][\"nest_key\"][1]"
   ]
  },
  {
   "cell_type": "code",
   "execution_count": 42,
   "id": "0650ab83",
   "metadata": {},
   "outputs": [
    {
     "data": {
      "text/plain": [
       "['hello']"
      ]
     },
     "execution_count": 42,
     "metadata": {},
     "output_type": "execute_result"
    }
   ],
   "source": [
    "# this will be hard and annoying!\n",
    "\n",
    "d = {\"k1\": [1, 2, [{\"k2\": ['nest_key', {'this is deep': [\"hello\"]}]}]]}\n",
    "d[\"k1\"][2][0][\"k2\"][1][\"this is deep\"]"
   ]
  },
  {
   "cell_type": "code",
   "execution_count": 13,
   "id": "544bc092",
   "metadata": {},
   "outputs": [],
   "source": [
    "name = \"nitesh jha\""
   ]
  },
  {
   "cell_type": "code",
   "execution_count": 15,
   "id": "20c89d80",
   "metadata": {},
   "outputs": [
    {
     "data": {
      "text/plain": [
       "['nites', ' j', 'a']"
      ]
     },
     "execution_count": 15,
     "metadata": {},
     "output_type": "execute_result"
    }
   ],
   "source": [
    "name.split('h')"
   ]
  },
  {
   "cell_type": "code",
   "execution_count": 43,
   "id": "25f10923",
   "metadata": {},
   "outputs": [
    {
     "data": {
      "text/plain": [
       "[1, 2, 2, 5, 22, 32, 42, 42, 42, 45, 53, 53432]"
      ]
     },
     "execution_count": 43,
     "metadata": {},
     "output_type": "execute_result"
    }
   ],
   "source": [
    "# sorting numbs in list, one should not use sort function in the same line with assing operations \n",
    "nums = [1, 32, 42, 53, 22, 42, 42, 53432, 2, 2, 45, 5]\n",
    "nums.sort()\n",
    "sorted_nums = nums\n",
    "sorted_nums"
   ]
  },
  {
   "cell_type": "code",
   "execution_count": 3,
   "id": "e6806a31",
   "metadata": {},
   "outputs": [
    {
     "name": "stdout",
     "output_type": "stream",
     "text": [
      "{'apple': 1, 'banana': 3, 'orange': 2}\n"
     ]
    }
   ],
   "source": [
    "#sorting a dictionary\n",
    "\n",
    "my_dict = {'banana': 3, 'apple': 1, 'orange': 2}\n",
    "sorted_dict = dict(sorted(my_dict.items()))\n",
    "\n",
    "print(sorted_dict)"
   ]
  },
  {
   "cell_type": "markdown",
   "id": "1415732e",
   "metadata": {},
   "source": [
    "# Tuples\n",
    "\n",
    "Tuples are immutable unlike lists. They cannot be changed or replaced or new items can be added in them.\n",
    "To create a tuple, we use a ecliple bracket ()"
   ]
  },
  {
   "cell_type": "markdown",
   "id": "40e2b181",
   "metadata": {},
   "source": [
    "# Sets\n",
    "\n",
    "Sets are unordered collection of unique elements. It takes only unique item in the list."
   ]
  },
  {
   "cell_type": "code",
   "execution_count": 50,
   "id": "25059d59",
   "metadata": {},
   "outputs": [
    {
     "data": {
      "text/plain": [
       "{1, 2, 3, 4, 5, 11, 22, 33}"
      ]
     },
     "execution_count": 50,
     "metadata": {},
     "output_type": "execute_result"
    }
   ],
   "source": [
    "list5 = [1, 2, 3, 3, 2, 33, 4, 5, 11, 22, 3, 2]\n",
    "new_set = set(list5)\n",
    "new_set"
   ]
  },
  {
   "cell_type": "code",
   "execution_count": 11,
   "id": "91fce624",
   "metadata": {},
   "outputs": [
    {
     "data": {
      "text/plain": [
       "{1, 2, 3}"
      ]
     },
     "execution_count": 11,
     "metadata": {},
     "output_type": "execute_result"
    }
   ],
   "source": [
    "myset = set()\n",
    "myset.add(1)\n",
    "myset.add(2)\n",
    "myset.add(3)\n",
    "myset.add(1)\n",
    "myset"
   ]
  },
  {
   "cell_type": "markdown",
   "id": "843c4731",
   "metadata": {},
   "source": [
    "#working with IO basic files"
   ]
  },
  {
   "cell_type": "code",
   "execution_count": null,
   "id": "3482656a",
   "metadata": {},
   "outputs": [],
   "source": [
    "%%writefile myfile.txt\n",
    "Hello this is a "
   ]
  }
 ],
 "metadata": {
  "kernelspec": {
   "display_name": "Python 3 (ipykernel)",
   "language": "python",
   "name": "python3"
  },
  "language_info": {
   "codemirror_mode": {
    "name": "ipython",
    "version": 3
   },
   "file_extension": ".py",
   "mimetype": "text/x-python",
   "name": "python",
   "nbconvert_exporter": "python",
   "pygments_lexer": "ipython3",
   "version": "3.11.4"
  }
 },
 "nbformat": 4,
 "nbformat_minor": 5
}
