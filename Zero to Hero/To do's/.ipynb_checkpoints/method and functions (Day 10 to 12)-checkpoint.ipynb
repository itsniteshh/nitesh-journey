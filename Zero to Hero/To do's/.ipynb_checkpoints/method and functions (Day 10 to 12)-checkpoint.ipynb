{
 "cells": [
  {
   "cell_type": "markdown",
   "id": "f2285cea",
   "metadata": {},
   "source": [
    "# learning about functions "
   ]
  },
  {
   "cell_type": "code",
   "execution_count": 1,
   "id": "fab4b3ba",
   "metadata": {},
   "outputs": [],
   "source": [
    "# pig latin \n",
    "\"\"\"If word starts with a vowel, add 'ay' to end\n",
    "If word does not start wiht a vowel, put first letter at the end, then add 'ay'\n",
    "word -- ordway\n",
    "apple -- appleay\"\"\"\n",
    "\n",
    "\n",
    "def pig_latin(word):\n",
    "    \"\"\"\n",
    "    if word starts with vowel, add 'ay' to end, else put first letter and the end and add 'ay'\n",
    "    \"\"\"\n",
    "    first_letter = word[0]\n",
    "    \n",
    "    if first_letter in \"aeiou\":\n",
    "        pig_word = word + \"ay\"\n",
    "    else:\n",
    "        pig_word = word[1:] + first_letter + 'ay'\n",
    "    \n",
    "    return pig_word"
   ]
  },
  {
   "cell_type": "code",
   "execution_count": 7,
   "id": "e1ea4240",
   "metadata": {},
   "outputs": [
    {
     "data": {
      "text/plain": [
       "'iteshNay'"
      ]
     },
     "execution_count": 7,
     "metadata": {},
     "output_type": "execute_result"
    }
   ],
   "source": [
    "pig_latin(\"Nitesh\")"
   ]
  },
  {
   "cell_type": "markdown",
   "id": "dbfb6409",
   "metadata": {},
   "source": [
    "# functions practise exercise"
   ]
  },
  {
   "cell_type": "code",
   "execution_count": 9,
   "id": "4e08a729",
   "metadata": {},
   "outputs": [
    {
     "data": {
      "text/plain": [
       "7"
      ]
     },
     "execution_count": 9,
     "metadata": {},
     "output_type": "execute_result"
    }
   ],
   "source": [
    "\"\"\"lesser of two evens: write a func that returns the lesser of two given numbers if both nums are even, \n",
    " but returns the greater if one or both numbers are odd \"\"\"\n",
    "\n",
    "\n",
    "def lesser_of_two_evans(a, b):\n",
    "    smaller = 0\n",
    "    \"\"\"returns the minimum num from the list\"\"\"\n",
    "    if a % 2 == 0 and b % 2 == 0:\n",
    "        smaller = a\n",
    "        if b > smaller:\n",
    "            return smaller\n",
    "    else:\n",
    "        smaller = a\n",
    "        if b > smaller:\n",
    "            return b\n",
    "        \n",
    "lesser_of_two_evans(2, 7)"
   ]
  },
  {
   "cell_type": "code",
   "execution_count": null,
   "id": "f60cdda7",
   "metadata": {},
   "outputs": [],
   "source": [
    "# write function takes a two word string and returns true if both words begin with same letter\n",
    "\n",
    "def animal_crackers(text):\n",
    "    pass\n",
    "\n"
   ]
  },
  {
   "cell_type": "code",
   "execution_count": null,
   "id": "a3ab698c",
   "metadata": {},
   "outputs": [],
   "source": []
  }
 ],
 "metadata": {
  "kernelspec": {
   "display_name": "Python 3 (ipykernel)",
   "language": "python",
   "name": "python3"
  },
  "language_info": {
   "codemirror_mode": {
    "name": "ipython",
    "version": 3
   },
   "file_extension": ".py",
   "mimetype": "text/x-python",
   "name": "python",
   "nbconvert_exporter": "python",
   "pygments_lexer": "ipython3",
   "version": "3.11.4"
  }
 },
 "nbformat": 4,
 "nbformat_minor": 5
}
