{
 "cells": [
  {
   "cell_type": "markdown",
   "id": "f2285cea",
   "metadata": {},
   "source": [
    "# learning about functions "
   ]
  },
  {
   "cell_type": "code",
   "execution_count": 1,
   "id": "fab4b3ba",
   "metadata": {},
   "outputs": [],
   "source": [
    "# pig latin \n",
    "\"\"\"If word starts with a vowel, add 'ay' to end\n",
    "If word does not start wiht a vowel, put first letter at the end, then add 'ay'\n",
    "word -- ordway\n",
    "apple -- appleay\"\"\"\n",
    "\n",
    "\n",
    "def pig_latin(word):\n",
    "    \"\"\"\n",
    "    if word starts with vowel, add 'ay' to end, else put first letter and the end and add 'ay'\n",
    "    \"\"\"\n",
    "    first_letter = word[0]\n",
    "    \n",
    "    if first_letter in \"aeiou\":\n",
    "        pig_word = word + \"ay\"\n",
    "    else:\n",
    "        pig_word = word[1:] + first_letter + 'ay'\n",
    "    \n",
    "    return pig_word"
   ]
  },
  {
   "cell_type": "code",
   "execution_count": 7,
   "id": "e1ea4240",
   "metadata": {},
   "outputs": [
    {
     "data": {
      "text/plain": [
       "'iteshNay'"
      ]
     },
     "execution_count": 7,
     "metadata": {},
     "output_type": "execute_result"
    }
   ],
   "source": [
    "pig_latin(\"Nitesh\")"
   ]
  },
  {
   "cell_type": "markdown",
   "id": "dbfb6409",
   "metadata": {},
   "source": [
    "# functions practise exercise"
   ]
  },
  {
   "cell_type": "code",
   "execution_count": 2,
   "id": "4e08a729",
   "metadata": {},
   "outputs": [
    {
     "data": {
      "text/plain": [
       "2"
      ]
     },
     "execution_count": 2,
     "metadata": {},
     "output_type": "execute_result"
    }
   ],
   "source": [
    "\"\"\"lesser of two evens: write a func that returns the lesser of two given numbers if both nums are even, \n",
    " but returns the greater if one or both numbers are odd \"\"\"\n",
    "\n",
    "\n",
    "def lesser_of_two_evans(a, b):\n",
    "    smaller = 0\n",
    "    \"\"\"returns the minimum num from the list\"\"\"\n",
    "    if a % 2 == 0 and b % 2 == 0:\n",
    "        smaller = a\n",
    "        if b > smaller:\n",
    "            return smaller\n",
    "    else:\n",
    "        smaller = a\n",
    "        if b > smaller:\n",
    "            return b\n",
    "        \n",
    "lesser_of_two_evans(2, 6)"
   ]
  },
  {
   "cell_type": "code",
   "execution_count": 17,
   "id": "f60cdda7",
   "metadata": {},
   "outputs": [
    {
     "data": {
      "text/plain": [
       "False"
      ]
     },
     "execution_count": 17,
     "metadata": {},
     "output_type": "execute_result"
    }
   ],
   "source": [
    "# write function takes a two word string and returns true if both words begin with same letter\n",
    "\n",
    "def animal_crackers(text):\n",
    "    new_word = text.split()\n",
    "    \n",
    "    if new_word[0][0] == new_word[1][0]:\n",
    "        return True\n",
    "    else:\n",
    "        return False\n",
    "    \n",
    "animal_crackers(\"crazy Cangaroo\")"
   ]
  },
  {
   "cell_type": "markdown",
   "id": "754b1448",
   "metadata": {},
   "source": [
    "# Level 1 problems\n",
    "\n",
    "OLD MACDONALD - Write a function that capitalizes the first and fourth letters of a name\n"
   ]
  },
  {
   "cell_type": "code",
   "execution_count": 28,
   "id": "539a4d1b",
   "metadata": {},
   "outputs": [
    {
     "data": {
      "text/plain": [
       "'N i t e s H'"
      ]
     },
     "execution_count": 28,
     "metadata": {},
     "output_type": "execute_result"
    }
   ],
   "source": [
    "def old_macdonald(name):\n",
    "    \"\"\"capitalises first and fourth letter of a word\"\"\"\n",
    "    new_words = list(name)\n",
    "    new_words[5] = new_words[5].upper()\n",
    "    new_words[0] = new_words[0].upper()\n",
    "    \n",
    "    name = \" \".join(new_words)\n",
    "    return name\n",
    "    \n",
    "\n",
    "old_macdonald(\"nitesh\")"
   ]
  },
  {
   "cell_type": "code",
   "execution_count": 42,
   "id": "c2e79470",
   "metadata": {},
   "outputs": [
    {
     "data": {
      "text/plain": [
       "'emoh ma I'"
      ]
     },
     "execution_count": 42,
     "metadata": {},
     "output_type": "execute_result"
    }
   ],
   "source": [
    "# master yoda - given a sentence, return a sentence with the words reversed\n",
    "\n",
    "def master_yoda(text):\n",
    "    new_list = list(text)\n",
    "    text = \"\".join(new_list[::-1])\n",
    "    return text\n",
    "\n",
    "\n",
    "master_yoda(\"I am home\")"
   ]
  },
  {
   "cell_type": "code",
   "execution_count": 41,
   "id": "de0b1d2a",
   "metadata": {},
   "outputs": [
    {
     "data": {
      "text/plain": [
       "'home am I'"
      ]
     },
     "execution_count": 41,
     "metadata": {},
     "output_type": "execute_result"
    }
   ],
   "source": [
    "# correct techique\n",
    "\n",
    "def master_yoda(text):\n",
    "    new_list = text.split()\n",
    "    text = \" \".join(new_list[::-1])\n",
    "    return text\n",
    "\n",
    "\n",
    "master_yoda(\"I am home\")"
   ]
  },
  {
   "cell_type": "code",
   "execution_count": null,
   "id": "3058ae3a",
   "metadata": {},
   "outputs": [],
   "source": []
  }
 ],
 "metadata": {
  "kernelspec": {
   "display_name": "Python 3 (ipykernel)",
   "language": "python",
   "name": "python3"
  },
  "language_info": {
   "codemirror_mode": {
    "name": "ipython",
    "version": 3
   },
   "file_extension": ".py",
   "mimetype": "text/x-python",
   "name": "python",
   "nbconvert_exporter": "python",
   "pygments_lexer": "ipython3",
   "version": "3.11.4"
  }
 },
 "nbformat": 4,
 "nbformat_minor": 5
}
